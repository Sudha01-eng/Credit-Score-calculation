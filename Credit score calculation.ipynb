{
 "cells": [
  {
   "cell_type": "code",
   "execution_count": null,
   "id": "cd03e610",
   "metadata": {},
   "outputs": [
    {
     "name": "stdout",
     "output_type": "stream",
     "text": [
      "Enter your credit history (good, fair, or poor): fair\n",
      "Enter your payment history (on-time, late, or delinquent): on-time\n"
     ]
    }
   ],
   "source": [
    "# Define the variables\n",
    "credit_history = input(\"Enter your credit history (good, fair, or poor): \")\n",
    "payment_history = input(\"Enter your payment history (on-time, late, or delinquent): \")\n",
    "outstanding_debts = int(input(\"Enter your outstanding debts: \"))\n",
    "credit_age = int(input(\"Enter the age of your credit accounts (in years): \"))\n",
    "new_credit = input(\"Have you opened any new credit accounts recently? (yes or no): \")\n",
    "\n",
    "# Calculate the credit score\n",
    "score = 0\n",
    "if credit_history == \"good\":\n",
    "    score += 50\n",
    "elif credit_history == \"fair\":\n",
    "    score += 30\n",
    "else:\n",
    "    score += 10\n",
    "\n",
    "if payment_history == \"on-time\":\n",
    "    score += 30\n",
    "elif payment_history == \"late\":\n",
    "    score += 10\n",
    "else:\n",
    "    score += 0\n",
    "\n",
    "if outstanding_debts == 0:\n",
    "    score += 30\n",
    "elif outstanding_debts < 50:\n",
    "    score += 20\n",
    "else:\n",
    "    score += 10\n",
    "\n",
    "if credit_age >= 5:\n",
    "    score += 15\n",
    "elif credit_age >= 2:\n",
    "    score += 10\n",
    "else:\n",
    "    score += 5\n",
    "\n",
    "if new_credit == \"no\":\n",
    "    score += 15\n",
    "else:\n",
    "    score += 5\n",
    "\n",
    "# Output the credit score\n",
    "print(\"Your credit score is:\", score)\n"
   ]
  },
  {
   "cell_type": "code",
   "execution_count": null,
   "id": "6d66af08",
   "metadata": {},
   "outputs": [],
   "source": []
  }
 ],
 "metadata": {
  "kernelspec": {
   "display_name": "Python 3 (ipykernel)",
   "language": "python",
   "name": "python3"
  },
  "language_info": {
   "codemirror_mode": {
    "name": "ipython",
    "version": 3
   },
   "file_extension": ".py",
   "mimetype": "text/x-python",
   "name": "python",
   "nbconvert_exporter": "python",
   "pygments_lexer": "ipython3",
   "version": "3.9.7"
  }
 },
 "nbformat": 4,
 "nbformat_minor": 5
}
